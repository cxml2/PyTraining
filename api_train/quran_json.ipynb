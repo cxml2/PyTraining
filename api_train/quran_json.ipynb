{
  "nbformat": 4,
  "nbformat_minor": 0,
  "metadata": {
    "colab": {
      "name": "quran_json.ipynb",
      "provenance": [],
      "collapsed_sections": []
    },
    "kernelspec": {
      "name": "python3",
      "display_name": "Python 3"
    },
    "language_info": {
      "name": "python"
    }
  },
  "cells": [
    {
      "cell_type": "code",
      "metadata": {
        "colab": {
          "base_uri": "https://localhost:8080/"
        },
        "id": "r4-4BUTHDHFo",
        "outputId": "980b49eb-92b2-4742-8361-299979eb2316"
      },
      "source": [
        "import json\n",
        "import requests as r\n",
        "\n",
        "\n",
        "def surah(numb):\n",
        "  url_quran=r.get(\"https://api.npoint.io/99c279bb173a6e28359c/surat/\"+str(numb))\n",
        "  qu=url_quran.json()\n",
        "  for b in qu:\n",
        "    print('(',b['nomor'],')')\n",
        "    print(b['ar'])\n",
        "    print(b['id'],'\\n')\n",
        "\n",
        "'''\n",
        "tinggal ganti nomer surah seusai al-quran akan menampilkan ayat dan terjemahannya\n",
        "surah(nomer surah)\n",
        "'''\n",
        "surah(4)"
      ],
      "execution_count": 29,
      "outputs": [
        {
          "output_type": "stream",
          "text": [
            "( 1 )\n",
            "بِسْمِ اللَّهِ الرَّحْمَٰنِ الرَّحِيمِ\n",
            "Dengan menyebut nama Allah Yang Maha Pemurah lagi Maha Penyayang. \n",
            "\n",
            "( 2 )\n",
            "الْحَمْدُ لِلَّهِ رَبِّ الْعَالَمِينَ\n",
            "Segala puji bagi Allah, Tuhan semesta alam. \n",
            "\n",
            "( 3 )\n",
            "الرَّحْمَٰنِ الرَّحِيمِ\n",
            "Maha Pemurah lagi Maha Penyayang. \n",
            "\n",
            "( 4 )\n",
            "مَالِكِ يَوْمِ الدِّينِ\n",
            "Yang menguasai di Hari Pembalasan \n",
            "\n",
            "( 5 )\n",
            "إِيَّاكَ نَعْبُدُ وَإِيَّاكَ نَسْتَعِينُ\n",
            "Hanya Engkaulah yang kami sembah, dan hanya kepada Engkaulah kami meminta pertolongan. \n",
            "\n",
            "( 6 )\n",
            "اهْدِنَا الصِّرَاطَ الْمُسْتَقِيمَ\n",
            "Tunjukilah kami jalan yang lurus, \n",
            "\n",
            "( 7 )\n",
            "صِرَاطَ الَّذِينَ أَنْعَمْتَ عَلَيْهِمْ غَيْرِ الْمَغْضُوبِ عَلَيْهِمْ وَلَا الضَّالِّينَ\n",
            "(yaitu) Jalan orang-orang yang telah Engkau beri ni'mat kepada mereka; bukan (jalan) mereka yang dimurkai dan bukan (pula jalan) mereka yang sesat. \n",
            "\n"
          ],
          "name": "stdout"
        }
      ]
    }
  ]
}
