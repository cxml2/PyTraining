{
  "nbformat": 4,
  "nbformat_minor": 0,
  "metadata": {
    "colab": {
      "name": "pantau_covid_2.ipynb",
      "provenance": [],
      "collapsed_sections": []
    },
    "kernelspec": {
      "name": "python3",
      "display_name": "Python 3"
    },
    "language_info": {
      "name": "python"
    }
  },
  "cells": [
    {
      "cell_type": "code",
      "metadata": {
        "colab": {
          "base_uri": "https://localhost:8080/",
          "height": 363
        },
        "id": "jX1CHxe9wzfv",
        "outputId": "d6651d5b-95de-4406-d9c7-906d4877cea7"
      },
      "source": [
        "import requests as r\n",
        "import json\n",
        "import matplotlib.pyplot as plt\n",
        "\n",
        "web=r.get('https://data.covid19.go.id/public/api/update.json')\n",
        "dc=web.json()\n",
        "\n",
        "#======================================================================\n",
        "total=dc['update']['total']\n",
        "print(\"Jumlah Positif   = 🔵\\033[1m\",total['jumlah_positif'],\"\\033[0m\")\n",
        "print(\"Jumlah Dirawat   = ⚫\\033[1m\",total['jumlah_dirawat'],\"\\033[0m\")\n",
        "print(\"Jumlah Sembuh    = 🍀\\033[1m\",total['jumlah_sembuh'],\"\\033[0m\")\n",
        "print(\"Jumlah meninggal = 🔴\\033[1m\",total['jumlah_meninggal'],\"\\033[0m\")\n",
        "\n",
        "\n",
        "#======================================================================\n",
        "dayup=dc['update']['harian']\n",
        "# print(dayup)\n",
        "\n",
        "pos=[]\n",
        "rec=[]\n",
        "raw=[]\n",
        "die=[]\n",
        "i=0\n",
        "b=[]\n",
        "for day_upd in dayup:\n",
        "  i=i+1\n",
        "  b.append(i)\n",
        "  \n",
        "  pos.append(day_upd['jumlah_positif']['value'])\n",
        "  raw.append(day_upd['jumlah_dirawat']['value'])\n",
        "  rec.append(day_upd['jumlah_sembuh']['value'])\n",
        "  die.append(day_upd['jumlah_meninggal']['value'])\n",
        "  # return kum\n",
        "cfr=(day_upd['jumlah_meninggal']['value']/day_upd['jumlah_positif']['value'])\n",
        "print(\"CFR = \",cfr,\"%\")\n",
        "\n",
        "plt.scatter(b,rec,1,\"green\")\n",
        "plt.scatter(b,pos,1,\"blue\")\n",
        "plt.scatter(b,die,1,\"red\")\n",
        "plt.scatter(b,raw,1,\"black\")\n",
        "plt.xlabel('Day')\n",
        "plt.ylabel('Count')\n",
        "# plt.ylabel('some numbers')\n",
        "plt.show()\n",
        "\n",
        "# print(kum)\n"
      ],
      "execution_count": null,
      "outputs": [
        {
          "output_type": "stream",
          "text": [
            "Jumlah Positif   = 🔵\u001b[1m 1901490 \u001b[0m\n",
            "Jumlah Dirawat   = ⚫\u001b[1m 108324 \u001b[0m\n",
            "Jumlah Sembuh    = 🍀\u001b[1m 1740436 \u001b[0m\n",
            "Jumlah meninggal = 🔴\u001b[1m 52730 \u001b[0m\n",
            "CFR =  0.021969189551239117 %\n"
          ],
          "name": "stdout"
        },
        {
          "output_type": "display_data",
          "data": {
            "image/png": "[encoded data removed]",
            "text/plain": [
              "<Figure size 432x288 with 1 Axes>"
            ]
          },
          "metadata": {
            "tags": [],
            "needs_background": "light"
          }
        }
      ]
    },
    {
      "cell_type": "code",
      "metadata": {
        "colab": {
          "base_uri": "https://localhost:8080/"
        },
        "id": "6-PBtnSq4IXQ",
        "outputId": "621b2d2d-d3c7-437d-eaaf-ce0ddc8c6853"
      },
      "source": [
        "\n",
        "tanggal_case=\"2021-06-11T00:00:00.000Z\"\n",
        "tanggal_case2=\"2021-06-12T00:00:00.000Z\"\n",
        "\n",
        "# tanggal_kemarin\n",
        "for g in dayup:\n",
        "  tanggal=g['key_as_string']\n",
        "  if(tanggal==tanggal_case2):\n",
        "    # print(tanggal)\n",
        "    posx=g['jumlah_positif']['value']\n",
        "    print(\"positif 12 juni :\",posx)\n",
        "\n",
        "  if(tanggal==tanggal_case):\n",
        "    # print(tanggal)\n",
        "    posy=g['jumlah_positif']['value']\n",
        "    print(\"positif 11 juni:\",posy)\n",
        "pos=posx-posy\n",
        "print(\"selisih=\",pos)"
      ],
      "execution_count": null,
      "outputs": [
        {
          "output_type": "stream",
          "text": [
            "positif 11 juni: 8083\n",
            "positif 12 juni : 7465\n",
            "selisih= -618\n"
          ],
          "name": "stdout"
        }
      ]
    },
    {
      "cell_type": "code",
      "metadata": {
        "id": "tnryieT638Y0",
        "colab": {
          "base_uri": "https://localhost:8080/"
        },
        "outputId": "439b89d2-5b27-417c-8436-c84412417450"
      },
      "source": [
        "\n",
        "\n",
        "import requests as r\n",
        "from bs4 import BeautifulSoup\n",
        "\n",
        "\n",
        "\n",
        "def scraping(url,tag):\n",
        "  web=r.get(url)\n",
        "  soup=BeautifulSoup(web.content,'html.parser')\n",
        "  cari=soup.find_all(tag)\n",
        "  for search in cari:\n",
        "    print(search.text)\n",
        "\n",
        "link='https://youwatch.casa/tv/'\n",
        "\n",
        "scraping(link,\"title\")\n",
        "scraping(link,\"h2\")\n"
      ],
      "execution_count": null,
      "outputs": [
        {
          "output_type": "stream",
          "text": [
            "Tv Show Archive - YouWatch\n",
            "\n",
            "Love ft. Marriage and Divorce 2 Subtitle Indonesia \n",
            "\n",
            "Nonton The Penthouse 3 Subtitle Indonesia \n",
            "\n",
            "Nonton Racket Boys Subtitle Indonesia \n",
            "\n",
            "Nonton My Roommate Is a Gumiho Subtitle Indonesia \n",
            "\n",
            "Nonton Mad for Each Other Subtitle Indonesia \n",
            "\n",
            "Nonton Here’s My Plan Subtitle Indonesia \n",
            "\n",
            "Nonton Move to Heaven Subtitle Indonesia \n",
            "\n",
            "Nonton Doom at Your Service Subtitle Indonesia \n",
            "\n",
            "Nonton Drama Korea MINE Subtitle Indonesia \n",
            "\n",
            "Nonton Drama Korea Imitation Subtitle Indonesia \n",
            "\n",
            "Nonton Youth of May Subtitle Indonesia \n",
            "\n",
            "Bossam: Steal the Fate Subtitle Indonesia \n",
            "\n",
            "Nonton Dark Hole Subtitle Indonesia \n",
            "\n",
            "So I Married An Anti-Fan Subtitle Indonesia \n",
            "\n",
            "Nonton Drama Korea Undercover Subtitle Indonesia \n"
          ],
          "name": "stdout"
        }
      ]
    }
  ]
}