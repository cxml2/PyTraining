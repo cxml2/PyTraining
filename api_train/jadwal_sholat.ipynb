{
  "nbformat": 4,
  "nbformat_minor": 0,
  "metadata": {
    "colab": {
      "name": "jadwal_sholat.ipynb",
      "provenance": [],
      "collapsed_sections": []
    },
    "kernelspec": {
      "name": "python3",
      "display_name": "Python 3"
    },
    "language_info": {
      "name": "python"
    }
  },
  "cells": [
    {
      "cell_type": "code",
      "metadata": {
        "id": "8erfBxP6gcse",
        "colab": {
          "base_uri": "https://localhost:8080/"
        },
        "outputId": "3a578ff7-534a-4109-a2ba-e888a53958ef"
      },
      "source": [
        "import requests as r\n",
        "import json\n",
        "import datetime\n",
        "\n",
        "#tanggal nya masih eror karena belum dikasih timezome\n",
        "now = datetime.datetime.now()\n",
        "print(now)\n",
        "hari_ini=now.strftime(\"%Y/%m/%d\")\n",
        "\n",
        "\n",
        "url=r.get(\"https://api.myquran.com/v1/sholat/jadwal/1505/%s\"%hari_ini) #1505 jogjakarta\n",
        "web=url.json()\n",
        "\n",
        "print(web)\n",
        "\n",
        "lang=web['data']['koordinat']['lat']\n",
        "long=web['data']['koordinat']['lon']\n",
        "\n",
        "jadwal=web['data']['jadwal']\n",
        "print(jadwal)\n",
        "print(\"Location : https://www.google.com/maps/search/?api=1&query=%f,%f\"%(lang,long))\n",
        "print(\"\\nJadwal Sholat %s \\n\"%(web['data']['lokasi']))\n",
        "print(\"imsak : \",jadwal['imsak'])\n",
        "print(\"subuh : \",jadwal['subuh'])\n",
        "print(\"terbit : \",jadwal['terbit'])\n",
        "print(\"dhuha : \",jadwal['dhuha'])\n",
        "print(\"dzuhur : \",jadwal['dzuhur'])\n",
        "print(\"ashar : \",jadwal['ashar'])\n",
        "print(\"maghrib : \",jadwal['maghrib'])\n",
        "print(\"isya : \",jadwal['isya'])\n"
      ],
      "execution_count": 1,
      "outputs": [
        {
          "output_type": "stream",
          "text": [
            "2021-06-05 23:07:54.339995\n",
            "{'status': True, 'data': {'id': '1505', 'lokasi': 'KOTA YOGYAKARTA', 'daerah': 'D.I. YOGYAKARTA', 'koordinat': {'lat': -7.7862583333333335, 'lon': 110.36915, 'lintang': '7° 47\\' 10.53\" S', 'bujur': '110° 22\\' 8.94\" E'}, 'jadwal': {'tanggal': 'Sabtu, 05/06/2021', 'imsak': '04:16', 'subuh': '04:26', 'terbit': '05:43', 'dhuha': '06:12', 'dzuhur': '11:41', 'ashar': '15:00', 'maghrib': '17:31', 'isya': '18:45', 'date': '2021-06-05'}}}\n",
            "{'tanggal': 'Sabtu, 05/06/2021', 'imsak': '04:16', 'subuh': '04:26', 'terbit': '05:43', 'dhuha': '06:12', 'dzuhur': '11:41', 'ashar': '15:00', 'maghrib': '17:31', 'isya': '18:45', 'date': '2021-06-05'}\n",
            "Location : https://www.google.com/maps/search/?api=1&query=-7.786258,110.369150\n",
            "\n",
            "Jadwal Sholat KOTA YOGYAKARTA \n",
            "\n",
            "imsak :  04:16\n",
            "subuh :  04:26\n",
            "terbit :  05:43\n",
            "dhuha :  06:12\n",
            "dzuhur :  11:41\n",
            "ashar :  15:00\n",
            "maghrib :  17:31\n",
            "isya :  18:45\n"
          ],
          "name": "stdout"
        }
      ]
    }
  ]
}