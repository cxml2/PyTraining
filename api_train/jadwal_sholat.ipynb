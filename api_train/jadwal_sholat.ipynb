{
  "nbformat": 4,
  "nbformat_minor": 0,
  "metadata": {
    "colab": {
      "name": "jadwal_sholat.ipynb",
      "provenance": [],
      "collapsed_sections": []
    },
    "kernelspec": {
      "name": "python3",
      "display_name": "Python 3"
    },
    "language_info": {
      "name": "python"
    }
  },
  "cells": [
    {
      "cell_type": "code",
      "metadata": {
        "id": "8erfBxP6gcse"
      },
      "source": [
        "import requests as r\n",
        "import json\n",
        "import datetime\n",
        "\n",
        "#tanggal nya masih eror karena belum dikasih timezome\n",
        "now = datetime.datetime.now()\n",
        "print(now)\n",
        "hari_ini=now.strftime(\"%Y/%m/%d\")\n",
        "\n",
        "\n",
        "url=r.get(\"https://api.myquran.com/v1/sholat/jadwal/1505/%s\"%hari_ini) #1505 jogjakarta\n",
        "web=url.json()\n",
        "\n",
        "print(web)\n",
        "\n",
        "lang=web['data']['koordinat']['lat']\n",
        "long=web['data']['koordinat']['lon']\n",
        "\n",
        "jadwal=web['data']['jadwal']\n",
        "print(jadwal)\n",
        "print(\"Location : https://www.google.com/maps/search/?api=1&query=%f,%f\"%(lang,long))\n",
        "print(\"\\nJadwal Sholat %s \\n\"%(web['data']['lokasi']))\n",
        "print(\"imsak : \",jadwal['imsak'])\n",
        "print(\"subuh : \",jadwal['subuh'])\n",
        "print(\"terbit : \",jadwal['terbit'])\n",
        "print(\"dhuha : \",jadwal['dhuha'])\n",
        "print(\"dzuhur : \",jadwal['dzuhur'])\n",
        "print(\"ashar : \",jadwal['ashar'])\n",
        "print(\"maghrib : \",jadwal['maghrib'])\n",
        "print(\"isya : \",jadwal['isya'])\n"
      ],
      "execution_count": null,
      "outputs": []
    }
  ]
}