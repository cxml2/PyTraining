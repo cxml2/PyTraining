{
  "nbformat": 4,
  "nbformat_minor": 0,
  "metadata": {
    "colab": {
      "name": "cek_api_koneksi.ipynb",
      "provenance": []
    },
    "kernelspec": {
      "name": "python3",
      "display_name": "Python 3"
    },
    "language_info": {
      "name": "python"
    }
  },
  "cells": [
    {
      "cell_type": "code",
      "metadata": {
        "id": "ql1u3ZZwfn3-"
      },
      "source": [
        "#closed server down\n",
        "# import json\n",
        "# import requests as r\n",
        "# url=r.get(\"https://data.covid19.go.id/public/api/update.json\")\n",
        "# data=url.json()\n",
        "# print('')\n",
        "# print(data)\n",
        "# print('')\n",
        "# print(\"Jumlah ODP     : \",data['data']['jumlah_odp'])\n",
        "# print(\"Jumlah PDP     : \",data['data']['jumlah_pdp'])\n",
        "# print(\"Total Spesimen : \",data['data']['total_spesimen'])\n",
        "# print('')\n",
        "# print(\"Penambahan jumlah positif : \",data['update']['penambahan']['jumlah_positif'])\n",
        "# ----------------------------------\n",
        "# print(\"Jumlah Kasus = \"data[]['total']['jumlah_sembuh'])"
      ],
      "execution_count": 64,
      "outputs": []
    },
    {
      "cell_type": "code",
      "metadata": {
        "colab": {
          "base_uri": "https://localhost:8080/"
        },
        "id": "WVbTTJIyWWAu",
        "outputId": "69ff2554-0e79-4c01-b16a-24850f8a018b"
      },
      "source": [
        "import json\n",
        "import requests \n",
        "url_1=\"https://data.covid19.go.id/public/api/update.json\"\n",
        "url_2=\"https://coronavirus-19-api.herokuapp.com/all\"\n",
        "url_3=\"https://covid19.mathdro.id/api\"\n",
        "url = url_2\n",
        "x=True\n",
        "def con(url):\n",
        "  timeout = 1\n",
        "  try:\n",
        "\t  request = requests.get(url, timeout=timeout)\n",
        "\t  print(\"Connected to the Internet\")\n",
        "  except (requests.ConnectionError, requests.Timeout) as exception:\n",
        "\t  print(\"No internet connection.\")\n",
        "    # x=False\n",
        "\n",
        "print(\"API Kemkes 1 : \")\n",
        "con(url_1)\n",
        "print(\"API Inter : \")\n",
        "con(url_2)\n",
        "print(\"API MathDroid : \")\n",
        "con(url_3)"
      ],
      "execution_count": 60,
      "outputs": [
        {
          "output_type": "stream",
          "text": [
            "API Kemkes 1 : \n",
            "No internet connection.\n",
            "API Inter : \n",
            "Connected to the Internet\n",
            "API MathDroid : \n",
            "Connected to the Internet\n"
          ],
          "name": "stdout"
        }
      ]
    }
  ]
}